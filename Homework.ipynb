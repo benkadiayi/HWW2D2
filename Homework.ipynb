{
 "cells": [
  {
   "cell_type": "code",
   "execution_count": 1,
   "id": "65674c85",
   "metadata": {},
   "outputs": [
    {
     "data": {
      "text/plain": [
       "[1, 5, 8, 9]"
      ]
     },
     "execution_count": 1,
     "metadata": {},
     "output_type": "execute_result"
    }
   ],
   "source": [
    "# Exercise 1\n",
    "# Given a list as a parameter,write a function that returns a list of numbers that are less than ten\n",
    "\n",
    "\n",
    "# For example: Say your input parameter to the function is [1,11,14,5,8,9]...Your output should [1,5,8,9]\n",
    "\n",
    "def below10(list):\n",
    "    new_list = []\n",
    "    for i in list:\n",
    "        if i <10:\n",
    "            new_list.append(i)\n",
    "    return new_list\n",
    "below10([1,11,14,5,8,9])\n"
   ]
  },
  {
   "cell_type": "code",
   "execution_count": 2,
   "id": "ef2b6c6b",
   "metadata": {},
   "outputs": [
    {
     "data": {
      "text/plain": [
       "[1, 2, 3, 3, 4, 4, 5, 5, 6, 6, 7, 8, 10]"
      ]
     },
     "execution_count": 2,
     "metadata": {},
     "output_type": "execute_result"
    }
   ],
   "source": [
    "# Exercise 2\n",
    "# Write a function that takes in two lists and returns the two lists merged together and sorted\n",
    "# Hint: You can use the .sort() method\n",
    "\n",
    "l_1 = [1,2,3,4,5,6]\n",
    "l_2 = [3,4,5,6,7,8,10]\n",
    "\n",
    "def merge_list(list_1, list_2):\n",
    "    new_list = list_1 + list_2 \n",
    "    new_list.sort()\n",
    "    return new_list\n",
    "\n",
    "merge_list([3,4,5,6,7,8,10],[1,2,3,4,5,6])"
   ]
  }
 ],
 "metadata": {
  "kernelspec": {
   "display_name": "Python 3",
   "language": "python",
   "name": "python3"
  },
  "language_info": {
   "codemirror_mode": {
    "name": "ipython",
    "version": 3
   },
   "file_extension": ".py",
   "mimetype": "text/x-python",
   "name": "python",
   "nbconvert_exporter": "python",
   "pygments_lexer": "ipython3",
   "version": "3.8.8"
  }
 },
 "nbformat": 4,
 "nbformat_minor": 5
}
